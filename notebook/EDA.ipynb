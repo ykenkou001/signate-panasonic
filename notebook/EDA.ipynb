{
 "metadata": {
  "orig_nbformat": 2,
  "kernelspec": {
   "name": "python3",
   "display_name": "Python 3.7.3 64-bit"
  },
  "metadata": {
   "interpreter": {
    "hash": "4cd7ab41f5fca4b9b44701077e38c5ffd31fe66a6cab21e0214b68d958d0e462"
   }
  }
 },
 "nbformat": 4,
 "nbformat_minor": 2,
 "cells": [
  {
   "cell_type": "code",
   "execution_count": 1,
   "metadata": {},
   "outputs": [],
   "source": [
    "from glob import glob\n",
    "import zipfile\n",
    "import os\n",
    "import shutil\n",
    "from pprint import pprint\n",
    "from tqdm.notebook import tqdm"
   ]
  },
  {
   "cell_type": "code",
   "execution_count": 2,
   "metadata": {},
   "outputs": [
    {
     "output_type": "stream",
     "name": "stdout",
     "text": [
      "Python 3.7.10\n",
      "/usr/local/bin/python\n"
     ]
    }
   ],
   "source": [
    "!python --version\n",
    "!which python"
   ]
  },
  {
   "cell_type": "code",
   "execution_count": 3,
   "metadata": {},
   "outputs": [],
   "source": [
    "# zip_files = glob('data/*.zip')\n",
    "# for zip in zip_files:\n",
    "#     with zipfile.ZipFile(zip) as z:\n",
    "#         z.extractall('data/')"
   ]
  },
  {
   "cell_type": "code",
   "execution_count": 20,
   "metadata": {},
   "outputs": [
    {
     "output_type": "stream",
     "name": "stdout",
     "text": [
      "readme.md : 0.0 MB\n",
      "evaluation_code.zip : 0.0 MB\n",
      "sample_submit.json : 0.24 MB\n",
      "train_annotations.zip : 1.53 MB\n",
      "test_images.zip : 247.08 MB\n",
      "train_images.zip : 572.85 MB\n",
      "evaluation_code : 0.01 MB\n",
      "train_annotations : 3.61 MB\n",
      "test_images : 282.48 MB\n",
      "train_images : 657.94 MB\n"
     ]
    }
   ],
   "source": [
    "paths = glob('data/*')\n",
    "for path in paths:\n",
    "    if os.path.isfile(path):\n",
    "        print(os.path.basename(path) + ' : ' + str(round(os.path.getsize(path) / (1024*1024), 2)) + ' MB')\n",
    "    elif os.path.isdir(path):\n",
    "        total = 0\n",
    "        with os.scandir(path) as it:\n",
    "            for e in it:\n",
    "                total += e.stat().st_size\n",
    "        print(os.path.basename(path) + ' : ' + str(round(total / (1024*1024), 2)) + ' MB')\n"
   ]
  },
  {
   "cell_type": "code",
   "execution_count": 26,
   "metadata": {},
   "outputs": [
    {
     "output_type": "stream",
     "name": "stdout",
     "text": [
      "data  EDA.ipynb  notebook  signate.json\n"
     ]
    }
   ],
   "source": [
    "!ls"
   ]
  },
  {
   "cell_type": "code",
   "execution_count": 27,
   "metadata": {},
   "outputs": [
    {
     "output_type": "error",
     "ename": "NameError",
     "evalue": "name 'shutil' is not defined",
     "traceback": [
      "\u001b[0;31m---------------------------------------------------------------------------\u001b[0m",
      "\u001b[0;31mNameError\u001b[0m                                 Traceback (most recent call last)",
      "\u001b[0;32m<ipython-input-27-8cea6d483e3a>\u001b[0m in \u001b[0;36m<module>\u001b[0;34m()\u001b[0m\n\u001b[0;32m----> 1\u001b[0;31m \u001b[0mshutil\u001b[0m\u001b[0;34m.\u001b[0m\u001b[0mmove\u001b[0m\u001b[0;34m(\u001b[0m\u001b[0;34m'./EDA.ipynb'\u001b[0m\u001b[0;34m,\u001b[0m \u001b[0;34m'notebook'\u001b[0m\u001b[0;34m)\u001b[0m\u001b[0;34m\u001b[0m\u001b[0;34m\u001b[0m\u001b[0m\n\u001b[0m",
      "\u001b[0;31mNameError\u001b[0m: name 'shutil' is not defined"
     ]
    }
   ],
   "source": [
    "shutil.move('./EDA.ipynb', 'notebook')"
   ]
  }
 ]
}