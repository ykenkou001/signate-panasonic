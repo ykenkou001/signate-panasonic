{
 "metadata": {
  "orig_nbformat": 2,
  "kernelspec": {
   "name": "python3710jvsc74a57bd04cd7ab41f5fca4b9b44701077e38c5ffd31fe66a6cab21e0214b68d958d0e462",
   "display_name": "Python 3.7.10 64-bit"
  },
  "metadata": {
   "interpreter": {
    "hash": "4cd7ab41f5fca4b9b44701077e38c5ffd31fe66a6cab21e0214b68d958d0e462"
   }
  }
 },
 "nbformat": 4,
 "nbformat_minor": 2,
 "cells": [
  {
   "cell_type": "code",
   "execution_count": 1,
   "metadata": {},
   "outputs": [
    {
     "output_type": "stream",
     "name": "stdout",
     "text": [
      "Python 3.7.10\n",
      "/usr/local/bin/python\n",
      "NVIDIA-SMI has failed because it couldn't communicate with the NVIDIA driver. Make sure that the latest NVIDIA driver is installed and running.\n",
      "\n"
     ]
    }
   ],
   "source": [
    "!python --version\n",
    "!which python\n",
    "!nvidia-smi"
   ]
  },
  {
   "cell_type": "code",
   "execution_count": 2,
   "metadata": {},
   "outputs": [],
   "source": [
    "import os\n",
    "import sys\n",
    "import shutil\n",
    "import zipfile\n",
    "from glob import glob\n",
    "from pprint import pprint\n",
    "import cv2\n",
    "import matplotlib.pyplot as plt\n",
    "%matplotlib inline\n",
    "import numpy as np\n",
    "from pathlib import Path\n",
    "import pathlib\n",
    "\n",
    "from tqdm.notebook import tqdm\n",
    "\n",
    "import util"
   ]
  },
  {
   "cell_type": "code",
   "execution_count": 3,
   "metadata": {},
   "outputs": [
    {
     "output_type": "stream",
     "name": "stdout",
     "text": [
      "968\n2258\n2258\n"
     ]
    }
   ],
   "source": [
    "# train, test画像とannotation.jsonの数\n",
    "test_images = sorted(Path('../data/test_images').glob('**/*.png'))\n",
    "train_images = sorted(Path('../data/train_images').glob('**/*.png'))\n",
    "train_annotations = sorted(Path('../data/train_annotations').glob('**/*.json'))\n",
    "\n",
    "print(len(test_images))\n",
    "print(len(train_annotations))\n",
    "print(len(train_images))"
   ]
  },
  {
   "cell_type": "code",
   "execution_count": 4,
   "metadata": {},
   "outputs": [],
   "source": [
    "# rect, polyデータの確認\n",
    "sample_json_path = train_annotations[0]\n",
    "sample_json_file = util.read_json(sample_json_path)\n",
    "\n",
    "keys = list(sample_json_file['labels'].keys())\n",
    "\n",
    "rect_keys = ['引戸', '折戸', '開戸']\n",
    "polygon_keys = ['LDK', '廊下', '浴室', '洋室']"
   ]
  },
  {
   "cell_type": "code",
   "execution_count": 5,
   "metadata": {},
   "outputs": [
    {
     "output_type": "stream",
     "name": "stdout",
     "text": [
      "train_0000.png\n(621, 579, 3)\n"
     ]
    },
    {
     "output_type": "execute_result",
     "data": {
      "text/plain": [
       "{'LDK': [[[473.80891719745216, 81.43949044585987],\n",
       "   [278.9044585987261, 80.80254777070063],\n",
       "   [280.8152866242038, 278.89171974522293],\n",
       "   [183.36305732484072, 278.2547770700637],\n",
       "   [181.45222929936307, 323.4777070063694],\n",
       "   [278.26751592356686, 327.29936305732485],\n",
       "   [278.9044585987261, 520.2929936305733],\n",
       "   [475.0828025477707, 519.0191082802547]]],\n",
       " '廊下': [[[60.433121019108285, 230.484076433121],\n",
       "   [62.980891719745216, 278.2547770700637],\n",
       "   [133.04458598726114, 302.45859872611464],\n",
       "   [131.77070063694265, 326.02547770700636],\n",
       "   [183.36305732484072, 327.29936305732485],\n",
       "   [184.63694267515922, 180.80254777070064],\n",
       "   [134.95541401273886, 179.52866242038215],\n",
       "   [134.31847133757958, 228.5732484076433]]],\n",
       " '引戸': [[194.19108280254778,\n",
       "   86.53503184713375,\n",
       "   223.49044585987258,\n",
       "   176.34394904458597],\n",
       "  [262.34394904458594,\n",
       "   87.80891719745223,\n",
       "   300.56050955414014,\n",
       "   179.52866242038215],\n",
       "  [182.0891719745223, 262.968152866242, 281.452229299363, 291.63057324840764],\n",
       "  [184.0, 312.01273885350315, 275.08280254777065, 341.9490445859872],\n",
       "  [264.89171974522293,\n",
       "   324.11464968152865,\n",
       "   304.38216560509557,\n",
       "   422.20382165605093]],\n",
       " '折戸': [[109.47770700636943,\n",
       "   324.75159235668787,\n",
       "   147.0573248407643,\n",
       "   376.343949044586],\n",
       "  [49.60509554140128, 228.5732484076433, 80.17834394904457, 283.9872611464968],\n",
       "  [162.98089171974522,\n",
       "   179.52866242038215,\n",
       "   201.19745222929936,\n",
       "   280.80254777070064],\n",
       "  [180.23684210526318,\n",
       "   378.60526315789474,\n",
       "   196.68421052631578,\n",
       "   420.05263157894734]],\n",
       " '浴室': [[[33.68152866242036, 83.35031847133757],\n",
       "   [133.04458598726114, 83.35031847133757],\n",
       "   [133.68152866242036, 180.80254777070064],\n",
       "   [36.86624203821654, 182.0764331210191]]],\n",
       " '開戸': [[120.94267515923565,\n",
       "   182.71337579617833,\n",
       "   162.343949044586,\n",
       "   231.75796178343947],\n",
       "  [157.24840764331208,\n",
       "   275.0700636942675,\n",
       "   229.22292993630572,\n",
       "   329.8471337579618],\n",
       "  [136.86624203821657, 139.40127388535032, 182.7261146496815, 198.0],\n",
       "  [94.19108280254778,\n",
       "   119.656050955414,\n",
       "   154.06369426751593,\n",
       "   173.79617834394904],\n",
       "  [233.68152866242036, 155.96178343949043, 275.71974522292993, 198.0]]}"
      ]
     },
     "metadata": {},
     "execution_count": 5
    }
   ],
   "source": [
    "num = 0\n",
    "anno_json = util.read_json(str(train_annotations[num]))\n",
    "sample_img = cv2.imread(str(train_images[num]))\n",
    "print(train_images[num].name)\n",
    "print(sample_img.shape)\n",
    "anno_json['labels']\n"
   ]
  }
 ]
}